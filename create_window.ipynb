{
 "cells": [
  {
   "cell_type": "code",
   "execution_count": 11,
   "metadata": {},
   "outputs": [],
   "source": [
    "from loguru import logger\n",
    "import psycopg2\n",
    "from crud.crud import get_yaml"
   ]
  },
  {
   "cell_type": "code",
   "execution_count": 12,
   "metadata": {},
   "outputs": [],
   "source": [
    "params = get_yaml('./params/params.yaml')['connection']\n",
    "\n",
    "dict_tables = {\n",
    "    'hypothesis_one': ['2020-01-01', '2020-12-31'],\n",
    "    'hypothesis_two': ['2019-08-01', '2020-07-31'],\n",
    "    'hypothesis_three': ['2017-01-01', '2019-06-20']\n",
    "}\n",
    "\n",
    "conn = psycopg2.connect(\n",
    "        host=params['host'],\n",
    "        database=params['database'],\n",
    "        user=params['user'],\n",
    "        password=params['password']\n",
    "        )"
   ]
  },
  {
   "cell_type": "code",
   "execution_count": 8,
   "metadata": {},
   "outputs": [
    {
     "name": "stdout",
     "output_type": "stream",
     "text": [
      "CREATE TABLE hypothesis_one AS SELECT * FROM spotify_charts WHERE date >= '2020-01-01' AND date <= '2020-12-31';\n",
      "CREATE TABLE hypothesis_two AS SELECT * FROM spotify_charts WHERE date >= '2019-08-01' AND date <= '2020-07-31';\n",
      "CREATE TABLE hypothesis_three AS SELECT * FROM spotify_charts WHERE date >= '2017-01-01' AND date <= '2019-06-20';\n"
     ]
    }
   ],
   "source": [
    "for val in dict_tables:\n",
    "    print(f\"CREATE TABLE {val} AS SELECT * FROM spotify_charts WHERE date >= '{dict_tables[val][0]}' AND date <= '{dict_tables[val][1]}';\")"
   ]
  },
  {
   "cell_type": "code",
   "execution_count": 7,
   "metadata": {},
   "outputs": [],
   "source": [
    "### CREATE TABLES\n",
    "\n",
    "query = \"CREATE TABLE hypothesis_one AS SELECT * FROM spotify_charts WHERE date >= '2020-01-01' AND date <= 2020-12-31'\"\n",
    "\n",
    "with conn:\n",
    "    cur = conn.cursor()\n",
    "    try:\n",
    "        for val in dict_tables:\n",
    "            query = f\"CREATE TABLE {val} AS SELECT * FROM spotify_charts WHERE date >= '{dict_tables[val][0]}' AND date <= '{dict_tables[val][1]}';\"\n",
    "            cur.execute(query)\n",
    "            \n",
    "    except psycopg2.errors.DuplicateTable:\n",
    "        logger.warning(f'Table already exists.')"
   ]
  },
  {
   "cell_type": "code",
   "execution_count": null,
   "metadata": {},
   "outputs": [],
   "source": [
    "### DROP TABLES IF NESSESARY\n",
    "\n",
    "with conn:\n",
    "    cur = conn.cursor()\n",
    "    for val in dict_tables:\n",
    "        query = f\"DROP TABLE {val};\"\n",
    "        cur.execute(query)"
   ]
  }
 ],
 "metadata": {
  "kernelspec": {
   "display_name": "venv_project",
   "language": "python",
   "name": "python3"
  },
  "language_info": {
   "codemirror_mode": {
    "name": "ipython",
    "version": 3
   },
   "file_extension": ".py",
   "mimetype": "text/x-python",
   "name": "python",
   "nbconvert_exporter": "python",
   "pygments_lexer": "ipython3",
   "version": "3.9.16"
  },
  "orig_nbformat": 4
 },
 "nbformat": 4,
 "nbformat_minor": 2
}
